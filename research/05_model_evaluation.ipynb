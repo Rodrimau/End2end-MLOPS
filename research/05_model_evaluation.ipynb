{
 "cells": [
  {
   "cell_type": "code",
   "execution_count": 1,
   "metadata": {},
   "outputs": [],
   "source": [
    "import os\n",
    "os.chdir(\"../\")\n",
    "os.environ[\"MLFLOW_TRACKING_URI\"] = \"https://dagshub.com/Rodrimau/End2end-MLOPS.mlflow\"\n",
    "os.environ[\"MLFLOW_TRACKING_USERNAME\"]=\"Rodrimau\"\n",
    "os.environ[\"MLFLOW_TRACKING_PASSWORD\"]=\"d6ad768d9908cf40e554cdeec0adcd1c1fa95423\"\n",
    "from mlProject.constants import *\n",
    "from mlProject.utils.common import read_yaml, create_directories, save_json\n",
    "import os\n",
    "import pandas as pd\n",
    "from sklearn.metrics import mean_squared_error, mean_absolute_error, r2_score\n",
    "from urllib.parse import urlparse\n",
    "import mlflow\n",
    "import mlflow.sklearn\n",
    "import numpy as np\n",
    "import joblib"
   ]
  },
  {
   "cell_type": "code",
   "execution_count": 2,
   "metadata": {},
   "outputs": [],
   "source": [
    "from mlProject.components.model_evaluation import ModelEvaluation\n",
    "from mlProject.config.configuration import ConfigurationManager"
   ]
  },
  {
   "cell_type": "code",
   "execution_count": 3,
   "metadata": {},
   "outputs": [
    {
     "name": "stdout",
     "output_type": "stream",
     "text": [
      "[2023-10-08 15:38:11,791: INFO: common: yaml file: config\\config.yaml loaded successfully]\n",
      "[2023-10-08 15:38:11,793: INFO: common: yaml file: params.yaml loaded successfully]\n",
      "[2023-10-08 15:38:11,795: INFO: common: yaml file: schema.yaml loaded successfully]\n",
      "[2023-10-08 15:38:11,796: INFO: common: created directory at: artifacts]\n",
      "[2023-10-08 15:38:11,796: INFO: common: created directory at: artifacts/model_evaluation]\n",
      "[2023-10-08 15:38:14,380: INFO: common: json file saved at: artifacts\\model_evaluation\\metrics.json]\n",
      "https\n",
      "ParseResult(scheme='https', netloc='dagshub.com', path='/Rodrimau/End2end-MLOPS.mlflow', params='', query='', fragment='')\n"
     ]
    },
    {
     "name": "stderr",
     "output_type": "stream",
     "text": [
      "c:\\Users\\Admin\\AppData\\Local\\pypoetry\\Cache\\virtualenvs\\mlops-viYmYXu9-py3.10\\lib\\site-packages\\_distutils_hack\\__init__.py:33: UserWarning: Setuptools is replacing distutils.\n",
      "  warnings.warn(\"Setuptools is replacing distutils.\")\n",
      "Registered model 'ElasticnetModel' already exists. Creating a new version of this model...\n",
      "2023/10/08 15:38:30 INFO mlflow.tracking._model_registry.client: Waiting up to 300 seconds for model version to finish creation.                     Model name: ElasticnetModel, version 25\n",
      "Created version '25' of model 'ElasticnetModel'.\n"
     ]
    }
   ],
   "source": [
    "try:\n",
    "    config = ConfigurationManager()\n",
    "    model_evaluation_config = config.get_model_evaluation_config()\n",
    "    model_evaluation_config = ModelEvaluation(config=model_evaluation_config)\n",
    "    model_evaluation_config.log_into_mlflow()\n",
    "except Exception as e:\n",
    "    raise e"
   ]
  },
  {
   "cell_type": "code",
   "execution_count": null,
   "metadata": {},
   "outputs": [],
   "source": [
    "\n",
    "\n",
    "\n"
   ]
  }
 ],
 "metadata": {
  "kernelspec": {
   "display_name": "mlproj",
   "language": "python",
   "name": "python3"
  },
  "language_info": {
   "codemirror_mode": {
    "name": "ipython",
    "version": 3
   },
   "file_extension": ".py",
   "mimetype": "text/x-python",
   "name": "python",
   "nbconvert_exporter": "python",
   "pygments_lexer": "ipython3",
   "version": "3.8.16"
  },
  "orig_nbformat": 4
 },
 "nbformat": 4,
 "nbformat_minor": 2
}
